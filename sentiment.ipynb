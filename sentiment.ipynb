{
 "cells": [
  {
   "cell_type": "markdown",
   "id": "c9186b6f",
   "metadata": {},
   "source": [
    "# Importing libraries"
   ]
  },
  {
   "cell_type": "code",
   "execution_count": 1,
   "id": "b1a5616e",
   "metadata": {},
   "outputs": [],
   "source": [
    "import pandas as pd\n",
    "import re\n",
    "import nltk\n",
    "from nltk.corpus import stopwords\n",
    "from nltk.tokenize import word_tokenize\n",
    "from sklearn.feature_extraction.text import TfidfVectorizer\n",
    "from sklearn.model_selection import train_test_split  # Added import\n",
    "from sklearn.svm import SVC  # Added import\n",
    "\n",
    "# Load the data from the CSV file\n",
    "data = pd.read_csv('twitter_training.csv')"
   ]
  },
  {
   "cell_type": "markdown",
   "id": "ee08bb1e",
   "metadata": {},
   "source": [
    "# Dataset preprocessing"
   ]
  },
  {
   "cell_type": "code",
   "execution_count": 2,
   "id": "c6b17d67",
   "metadata": {},
   "outputs": [],
   "source": [
    "# Define a function to clean and preprocess the text\n",
    "def clean_text(text):\n",
    "    if isinstance(text, str):\n",
    "        stop_words = set(stopwords.words('english'))\n",
    "        words = word_tokenize(text)\n",
    "        filtered_words = [word for word in words if word not in stop_words]\n",
    "        cleaned_text = ' '.join(filtered_words)\n",
    "        cleaned_text = cleaned_text.lower()\n",
    "        cleaned_text = re.sub(r'[^a-zA-Z\\s]', '', cleaned_text)\n",
    "        if cleaned_text.strip():\n",
    "            return cleaned_text\n",
    "    return None\n",
    "\n",
    "# Apply the cleaning function to the \"Tweets\" column\n",
    "data['Cleaned Tweets'] = data['Tweets'].apply(clean_text)\n",
    "\n",
    "# Drop rows with None values in the 'Cleaned Tweets' column\n",
    "data.dropna(subset=['Cleaned Tweets'], inplace=True)\n",
    "\n",
    "# Save the cleaned data to a new CSV file\n",
    "data.to_csv('cleaned_twitter_training.csv', index=False)"
   ]
  },
  {
   "cell_type": "markdown",
   "id": "eb018edd",
   "metadata": {},
   "source": [
    "# Data splitting and training and Feature extraction\n"
   ]
  },
  {
   "cell_type": "code",
   "execution_count": 4,
   "id": "15fa4f58",
   "metadata": {},
   "outputs": [],
   "source": [
    "# Remove rows with NaN values in the 'Cleaned Tweets' column\n",
    "data = data.dropna(subset=['Cleaned Tweets'])\n",
    "\n",
    "# Get the cleaned tweets as input data X\n",
    "X = data['Cleaned Tweets']\n",
    "y = data['Sentiment'] # Assuming you have a 'Sentiment' column\n",
    "\n",
    "# Create the TF-IDF vectorizer\n",
    "tfidf_vectorizer = TfidfVectorizer(max_features=1000)  \n",
    "X_tfidf = tfidf_vectorizer.fit_transform(X)\n",
    "\n",
    "# Split the data into training and testing sets\n",
    "X_train, X_test, y_train, y_test = train_test_split(X_tfidf, y, test_size=0.2, random_state=42)\n",
    "\n",
    "# Initialize the SVM classifier\n",
    "sentiment_classifier = SVC()\n",
    "\n",
    "# Train the model on the training data\n",
    "sentiment_classifier.fit(X_train, y_train)\n",
    "\n",
    "# Predict the labels on the testing data\n",
    "y_pred = sentiment_classifier.predict(X_test)"
   ]
  },
  {
   "cell_type": "markdown",
   "id": "7ebc6460",
   "metadata": {},
   "source": [
    "# Manual input\n"
   ]
  },
  {
   "cell_type": "code",
   "execution_count": 8,
   "id": "5b4bb314",
   "metadata": {},
   "outputs": [
    {
     "name": "stdout",
     "output_type": "stream",
     "text": [
      "good student\n",
      "Predicted Sentiment: Positive\n"
     ]
    }
   ],
   "source": [
    "# Define a function to clean and preprocess a single text string\n",
    "def clean_and_preprocess_text(text):\n",
    "    stop_words = set(stopwords.words('english'))\n",
    "    words = word_tokenize(text)\n",
    "    filtered_words = [word for word in words if word not in stop_words]\n",
    "    cleaned_text = ' '.join(filtered_words)\n",
    "    cleaned_text = cleaned_text.lower()\n",
    "    cleaned_text = re.sub(r'[^a-zA-Z\\s]', '', cleaned_text)\n",
    "    return cleaned_text\n",
    "\n",
    "# Input string to predict sentiment for\n",
    "input_text = \"you are good student\"\n",
    "\n",
    "# Clean and preprocess the input text\n",
    "cleaned_input = clean_and_preprocess_text(input_text)\n",
    "\n",
    "# Convert the preprocessed input text into a TF-IDF vector\n",
    "input_tfidf = tfidf_vectorizer.transform([cleaned_input])\n",
    "print(cleaned_input)\n",
    "# Predict the sentiment label for the input text\n",
    "predicted_sentiment = sentiment_classifier.predict(input_tfidf)\n",
    "\n",
    "# Print the predicted sentiment\n",
    "print(\"Predicted Sentiment:\", predicted_sentiment[0])\n"
   ]
  },
  {
   "cell_type": "code",
   "execution_count": 6,
   "id": "184c25e5",
   "metadata": {},
   "outputs": [
    {
     "data": {
      "text/plain": [
       "['tfidf_vectorizer2.pkl']"
      ]
     },
     "execution_count": 6,
     "metadata": {},
     "output_type": "execute_result"
    }
   ],
   "source": [
    "import joblib\n",
    "\n",
    "joblib.dump(sentiment_classifier, 'sentiment_classifier_model.pkl')\n",
    "# Save the TF-IDF vectorizer\n",
    "joblib.dump(tfidf_vectorizer, 'tfidf_vectorizer2.pkl')"
   ]
  },
  {
   "cell_type": "code",
   "execution_count": 7,
   "id": "53358449",
   "metadata": {},
   "outputs": [
    {
     "name": "stdout",
     "output_type": "stream",
     "text": [
      "Sentiment Analysis Metrics:\n",
      "Accuracy: 0.8498796009631923\n",
      "Precision: 0.8512768706819004\n",
      "Recall: 0.8498796009631923\n",
      "F1 Score: 0.8496052108000753\n",
      "\n",
      "Classification Report:\n",
      "               precision    recall  f1-score   support\n",
      "\n",
      "  Irrelevant       0.87      0.77      0.82      2483\n",
      "    Negative       0.86      0.89      0.88      4394\n",
      "     Neutral       0.87      0.83      0.85      3606\n",
      "    Positive       0.81      0.87      0.84      4052\n",
      "\n",
      "    accuracy                           0.85     14535\n",
      "   macro avg       0.85      0.84      0.85     14535\n",
      "weighted avg       0.85      0.85      0.85     14535\n",
      "\n"
     ]
    }
   ],
   "source": [
    "from sklearn.metrics import classification_report, accuracy_score, precision_score, f1_score, recall_score\n",
    "\n",
    "# Assuming you have already trained your classifier (sentiment_classifier) and made predictions (y_pred) as mentioned earlier\n",
    "\n",
    "# Calculate accuracy\n",
    "accuracy = accuracy_score(y_test, y_pred)\n",
    "\n",
    "# Calculate precision, recall, and F1-score (you can specify the average and labels as needed)\n",
    "precision = precision_score(y_test, y_pred, average='weighted')  # You can change 'average' as needed\n",
    "recall = recall_score(y_test, y_pred, average='weighted')  # You can change 'average' as needed\n",
    "f1 = f1_score(y_test, y_pred, average='weighted')  # You can change 'average' as needed\n",
    "\n",
    "# Generate a classification report\n",
    "classification_rep = classification_report(y_test, y_pred)\n",
    "\n",
    "# Print the metrics and classification report\n",
    "print(\"Sentiment Analysis Metrics:\")\n",
    "print(\"Accuracy:\", accuracy)\n",
    "print(\"Precision:\", precision)\n",
    "print(\"Recall:\", recall)\n",
    "print(\"F1 Score:\", f1)\n",
    "print(\"\\nClassification Report:\\n\", classification_rep)\n"
   ]
  }
 ],
 "metadata": {
  "kernelspec": {
   "display_name": "Python 3 (ipykernel)",
   "language": "python",
   "name": "python3"
  },
  "language_info": {
   "codemirror_mode": {
    "name": "ipython",
    "version": 3
   },
   "file_extension": ".py",
   "mimetype": "text/x-python",
   "name": "python",
   "nbconvert_exporter": "python",
   "pygments_lexer": "ipython3",
   "version": "3.11.4"
  }
 },
 "nbformat": 4,
 "nbformat_minor": 5
}
